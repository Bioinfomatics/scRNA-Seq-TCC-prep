{
 "cells": [
  {
   "cell_type": "code",
   "execution_count": 10,
   "metadata": {
    "collapsed": false
   },
   "outputs": [],
   "source": [
    "import numpy as np\n",
    "from itertools import islice\n",
    "import random\n",
    "from collections import Counter\n",
    "import matplotlib.pyplot as plt\n",
    "import gzip, time, gc\n",
    "from multiprocessing import Pool"
   ]
  },
  {
   "cell_type": "markdown",
   "metadata": {},
   "source": [
    "### Read config.json file"
   ]
  },
  {
   "cell_type": "code",
   "execution_count": 15,
   "metadata": {
    "collapsed": false
   },
   "outputs": [
    {
     "name": "stdout",
     "output_type": "stream",
     "text": [
      "BARCODE FILES:\n",
      "\n",
      "/home/vasilis/clustering_EQ/SC/pbmcs/pbmc3k_fastqs/read-I1_si-ACGCGGAA_lane-001-chunk-001.fastq.gz\n",
      "/home/vasilis/clustering_EQ/SC/pbmcs/pbmc3k_fastqs/read-I1_si-ACGCGGAA_lane-002-chunk-000.fastq.gz\n",
      "/home/vasilis/clustering_EQ/SC/pbmcs/pbmc3k_fastqs/read-I1_si-CGCTATCC_lane-001-chunk-001.fastq.gz\n",
      "/home/vasilis/clustering_EQ/SC/pbmcs/pbmc3k_fastqs/read-I1_si-CGCTATCC_lane-002-chunk-000.fastq.gz\n",
      "/home/vasilis/clustering_EQ/SC/pbmcs/pbmc3k_fastqs/read-I1_si-GTTGCATG_lane-001-chunk-001.fastq.gz\n",
      "/home/vasilis/clustering_EQ/SC/pbmcs/pbmc3k_fastqs/read-I1_si-GTTGCATG_lane-002-chunk-000.fastq.gz\n",
      "/home/vasilis/clustering_EQ/SC/pbmcs/pbmc3k_fastqs/read-I1_si-TAAATCGT_lane-001-chunk-001.fastq.gz\n",
      "/home/vasilis/clustering_EQ/SC/pbmcs/pbmc3k_fastqs/read-I1_si-TAAATCGT_lane-002-chunk-000.fastq.gz\n"
     ]
    }
   ],
   "source": [
    "import json\n",
    "with open(\"config.json\") as json_file:\n",
    "    parameter = json.load(json_file)\n",
    "\n",
    "\n",
    "print(\"BARCODE FILES:\\n\"\n)",
    "brc_dirs=[]\n",
    "for i in range(len(parameter[\"barcode_filenames\"])):\n",
    "    brc_dirs+=[str(parameter[\"BASE_DIR\"])+str(parameter[\"barcode_filenames\"][i])]\n",
    "    print(brc_dirs[i]\n)",
    "random.seed()"
   ]
  },
  {
   "cell_type": "markdown",
   "metadata": {},
   "source": [
    "### Read barcodes"
   ]
  },
  {
   "cell_type": "code",
   "execution_count": 12,
   "metadata": {
    "collapsed": false
   },
   "outputs": [
    {
     "name": "stdout",
     "output_type": "stream",
     "text": [
      "323.125944853 sec\n",
      "Barcodes:\n",
      "\n",
      "AATCTCTGCTTTAC\n",
      "ACCCAGCTTGCTTT\n",
      "AATGCGCTCAGATC\n",
      "ACGAACTGGCTATG\n",
      "TGAGCTGACTGGAT\n",
      "GGACCTCTTTTCTG\n",
      "ACTAAAACTCGACA\n",
      "CTATAGCTTCGCTC\n",
      "ACCACGCTACAGCT\n",
      "AGTATCCTAGAACA\n",
      "...\n",
      "NUMBER_OF_SEQUENCED_READS = 185980783\n"
     ]
    }
   ],
   "source": [
    "def encoding_map(ch):\n",
    "    if ch=='A':return 0\n",
    "    if ch=='G':return 1\n",
    "    if ch=='C':return 2\n",
    "    if ch=='T':return 3\n",
    "    if ch=='N':return random.randint(0,3)\n",
    "\n",
    "decoding_lst = ['A', 'G', 'C', 'T']\n",
    "\n",
    "def encode(k):\n",
    "    code = 0\n",
    "    for ch in k:\n",
    "        code *= 4\n",
    "        code += encoding_map(ch)\n",
    "    return code\n",
    "\n",
    "def decode(code):\n",
    "    ret = ''\n",
    "    for _ in range(14):\n",
    "        index = code & 3\n",
    "        code >>= 2\n",
    "        ret = decoding_lst[index] + ret\n",
    "    return ret\n",
    "\n",
    "def read_barcodes(brc_dir):\n",
    "    barcodes=[]\n",
    "    with gzip.open(brc_dir) as f:\n",
    "        for barcode in list(islice(f, 1, None, 4)):\n",
    "            barcodes+=[encode(barcode[:-1])]  # remove endline character\n",
    "    return barcodes\n",
    "\n",
    "def hamdist(s1, s2):\n",
    "    return sum(ch1 != ch2 for ch1, ch2 in zip(s1, s2))\n",
    "######################################################\n",
    "\n",
    "p=Pool()\n",
    "t0 = time.time()\n",
    "barcode_vec=p.map(read_barcodes, [brc_dirs[0],brc_dirs[1],brc_dirs[2],brc_dirs[3],brc_dirs[4],brc_dirs[5],brc_dirs[6],brc_dirs[7]] )\n",
    "p.close()\n",
    "p.join()\n",
    "\n",
    "barcodes=np.array(barcode_vec[0]+barcode_vec[1]+barcode_vec[2]+barcode_vec[3]+barcode_vec[4]+\n",
    "                  barcode_vec[5]+barcode_vec[6]+barcode_vec[7],dtype='uint32')\n",
    "del barcode_vec[:];del barcode_vec\n",
    "_ = gc.collect()\n",
    "\n",
    "t1 = time.time()\n",
    "print(t1-t0, \"sec\"\n)",
    "\n",
    "print(\"Barcodes:\\n\"\n)",
    "for bar in barcodes[:10]:\n",
    "       print(decode(bar)\n)",
    "print(\"...\"\n)",
    "NUMBER_OF_SEQUENCED_BARCODES=len(barcodes)\n",
    "print(\"NUMBER_OF_SEQUENCED_BARCODES =\",NUMBER_OF_SEQUENCED_BARCODES)"
   ]
  },
  {
   "cell_type": "markdown",
   "metadata": {},
   "source": [
    "### UMI counts per barcode"
   ]
  },
  {
   "cell_type": "code",
   "execution_count": 13,
   "metadata": {
    "collapsed": false
   },
   "outputs": [
    {
     "name": "stdout",
     "output_type": "stream",
     "text": [
      "NUM_OF_DISTINCT_BARCODES = 3831597\n"
     ]
    },
    {
     "data": {
      "image/png": "[encoded data removed]",
      "text/plain": [
       "<matplotlib.figure.Figure at 0x7fc6080d1850>"
      ]
     },
     "metadata": {},
     "output_type": "display_data"
    }
   ],
   "source": [
    "%matplotlib inline\n",
    "counts = Counter(barcodes)\n",
    "\n",
    "labels, values = zip(*counts.items())\n",
    "\n",
    "# sort your values in descending order\n",
    "indSort = np.argsort(values)[::-1]\n",
    "\n",
    "# rearrange your data\n",
    "labels = np.array(labels)[indSort]\n",
    "values = np.array(values)[indSort]\n",
    "\n",
    "indices = np.arange(len(labels))\n",
    "\n",
    "\n",
    "fig, ax = plt.subplots()\n",
    "ax.plot(indices, (values))\n",
    "ax.set_xscale(\"log\", nonposx='clip')\n",
    "ax.set_yscale(\"log\", nonposy='clip')\n",
    "ax.set_ylabel('UMI counts', color='k')\n",
    "ax.set_xlabel('barcode', color='k')\n",
    "ax.set_title('UMI counts per Barcode', color='b')\n",
    "#######\n",
    "NUM_OF_DISTINCT_BARCODES=len(indices)\n",
    "print(\"NUM_OF_DISTINCT_BARCODES =\",NUM_OF_DISTINCT_BARCODES\n)",
    "#######"
   ]
  },
  {
   "cell_type": "markdown",
   "metadata": {},
   "source": [
    "### Detect cell barcodes"
   ]
  },
  {
   "cell_type": "code",
   "execution_count": 16,
   "metadata": {
    "collapsed": false
   },
   "outputs": [
    {
     "name": "stdout",
     "output_type": "stream",
     "text": [
      "Cell_barcodes_detected: 2704\n",
      "NUM_OF_READS_in_CELL_BARCODES = 156302051\n"
     ]
    },
    {
     "data": {
      "text/plain": [
       "<matplotlib.text.Text at 0x7fc565b65310>"
      ]
     },
     "execution_count": 16,
     "metadata": {},
     "output_type": "execute_result"
    },
    {
     "data": {
      "image/png": "[encoded data removed]",
      "text/plain": [
       "<matplotlib.figure.Figure at 0x7fc601c840d0>"
      ]
     },
     "metadata": {},
     "output_type": "display_data"
    },
    {
     "data": {
      "image/png": "[encoded data removed]",
      "text/plain": [
       "<matplotlib.figure.Figure at 0x7fc565bf6950>"
      ]
     },
     "metadata": {},
     "output_type": "display_data"
    }
   ],
   "source": [
    "# By default we look for a number of cells in a window of 500 to 5000. \n",
    "# WINDOW = [500,5000]\n",
    "WINDOW=parameter[\"WINDOW\"]\n",
    "\n",
    "from scipy.signal import savgol_filter as savgol\n",
    "valdiff=np.diff((values))\n",
    "yhat = savgol(valdiff, 151, 1)\n",
    "\n",
    "fig, ax = plt.subplots(figsize=(10,5))\n",
    "ax2=ax\n",
    "ax2.plot(indices[:-1], (-valdiff),\".b\")\n",
    "ax.plot(-(yhat),'r',linewidth=2.0)\n",
    "ax.set_xlim([1,10000])\n",
    "ax.set_ylim([0.01,-np.min(valdiff)])\n",
    "ax.set_yscale(\"log\")\n",
    "ax.set_xscale(\"log\")\n",
    "ax.set_ylabel('minus umi count diff', color='k')\n",
    "ax.set_xlabel('barcode', color='k')\n",
    "ax.set_title('minus umi count diffenrence per barcode', color='k')\n",
    "\n",
    "NUM_OF_BARCODES=np.argmax(-yhat[WINDOW[0]:WINDOW[1]])+WINDOW[0]\n",
    "print(\"Cell_barcodes_detected:\",NUM_OF_BARCODES\n)",
    "\n",
    "ax.axvline(NUM_OF_BARCODES, color='g', linestyle='--',linewidth=2.0)\n",
    "\n",
    "NUM_OF_READS_in_CELL_BARCODES = sum(values[:NUM_OF_BARCODES])\n",
    "print(\"NUM_OF_READS_in_CELL_BARCODES =\",NUM_OF_READS_in_CELL_BARCODES\n)",
    "\n",
    "\n",
    "fig, ax2 = plt.subplots()\n",
    "ax2.axvline(NUM_OF_BARCODES, color='g', linestyle='--',linewidth=1.0)\n",
    "ax2.plot(indices, (values))\n",
    "ax2.plot(indices[:NUM_OF_BARCODES], (values[:NUM_OF_BARCODES]),color='g', linestyle='-',linewidth=4.0)\n",
    "ax2.set_xscale(\"log\", nonposx='clip')\n",
    "ax2.set_yscale(\"log\", nonposy='clip')\n",
    "ax2.set_ylabel('UMI counts', color='k')\n",
    "ax2.set_xlabel('barcode', color='k')\n",
    "ax2.set_title('UMIs per Barcode', color='k')"
   ]
  },
  {
   "cell_type": "markdown",
   "metadata": {},
   "source": [
    "### Choose barcodes for error-correction"
   ]
  },
  {
   "cell_type": "code",
   "execution_count": 17,
   "metadata": {
    "collapsed": false
   },
   "outputs": [
    {
     "name": "stdout",
     "output_type": "stream",
     "text": [
      "85.5483419895 sec\n",
      "number of cell barcodes to error-correct: 111 ( dmin >= 5 )\n"
     ]
    },
    {
     "data": {
      "image/png": "[encoded data removed]",
      "text/plain": [
       "<matplotlib.figure.Figure at 0x7fc603417dd0>"
      ]
     },
     "metadata": {},
     "output_type": "display_data"
    }
   ],
   "source": [
    "codewords=labels[:NUM_OF_BARCODES]\n",
    "t0 = time.time()\n",
    "\n",
    "\n",
    "Ham_dist=np.zeros([len(codewords),len(codewords)])\n",
    "for i in range(len(codewords)):\n",
    "    codi=decode(codewords[i])\n",
    "    for j in range(i+1,len(codewords)):\n",
    "        Ham_dist[i,j]=hamdist(codi,decode(codewords[j]))\n",
    "        Ham_dist[j,i]=Ham_dist[i,j]\n",
    "dmin=(Ham_dist+14*np.identity(len(codewords))).min(axis=1)\n",
    "\n",
    "t1 = time.time()\n",
    "print(t1-t0, \"sec\"\n)",
    "\n",
    "fig, ax = plt.subplots()\n",
    "ax.hist(dmin,range(8))\n",
    "ax.set_ylabel('number of cell barcodes', color='k')\n",
    "ax.set_xlabel('dmin', color='k')\n",
    "ax.set_title('d_min histogram', color='k')\n",
    "\n",
    "### to be on the safe side correct only barcodes that have d_min>=5\n",
    "d=parameter['dmin']\n",
    "brc_idx_to_correct=np.arange(len(codewords))[dmin>=d]\n",
    "print(\"number of cell barcodes to error-correct:\", len(brc_idx_to_correct), \"( dmin >=\", d,\")\")"
   ]
  },
  {
   "cell_type": "code",
   "execution_count": 18,
   "metadata": {
    "collapsed": true
   },
   "outputs": [],
   "source": [
    "## CLEANUP\n",
    "del indices; del labels; del values; del counts; del valdiff; del indSort; del Ham_dist; del dmin\n",
    "_ = gc.collect()"
   ]
  },
  {
   "cell_type": "markdown",
   "metadata": {},
   "source": [
    "### Write output"
   ]
  },
  {
   "cell_type": "code",
   "execution_count": 19,
   "metadata": {
    "collapsed": false
   },
   "outputs": [
    {
     "name": "stdout",
     "output_type": "stream",
     "text": [
      "49.5744559765 sec\n",
      "DONE.\n"
     ]
    }
   ],
   "source": [
    "import pickle\n",
    "\n",
    "save_dir=str(parameter[\"SAVE_DIR\"])\n",
    "#create output directory \n",
    "\n",
    "import os\n",
    "if not os.path.isdir(save_dir):\n",
    "    try:\n",
    "        os.mkdir(save_dir)\n",
    "    except OSError as e:\n",
    "        print(\"OSError({0}): {1}\".format(e.errno, e.strerror)\n)",
    "\n",
    "t0 = time.time()\n",
    "with open(save_dir+\"barcodes.dat\", 'wb') as f:\n",
    "    pickle.dump(barcodes,f)\n",
    "with open(save_dir+\"codewords.dat\", 'wb') as f:\n",
    "    pickle.dump(codewords,f)\n",
    "with open(save_dir+\"brc_idx_to_correct.dat\", 'wb') as f:\n",
    "    pickle.dump(brc_idx_to_correct,f)\n",
    "printer=\"\"\n",
    "printer+=\"NUMBER_OF_SEQUENCED_BARCODES: %s\\n\" % NUMBER_OF_SEQUENCED_BARCODES\n",
    "printer+=\"NUM_OF_DISTINCT_BARCODES: %s\\n\" % NUM_OF_DISTINCT_BARCODES   \n",
    "printer+=\"Cell_barcodes_detected: %s\\n\" % NUM_OF_BARCODES\n",
    "printer+=\"NUM_OF_READS_in_CELL_BARCODES: %s\\n\" % NUM_OF_READS_in_CELL_BARCODES\n",
    "printer+=\"NUM_OF_CELL_BARCODES_to_CORRECT %s (dmin >=%s)\\n\" % (len(brc_idx_to_correct), d)    \n",
    "with open(save_dir+\"run.info\", 'wb') as f:\n",
    "    f.write(printer)\n",
    "print(printer\n)",
    "t1 = time.time()\n",
    "print(t1-t0, \"sec\"\n)",
    "print(\"DONE.\")"
   ]
  }
 ],
 "metadata": {
  "kernelspec": {
   "display_name": "Python 2",
   "language": "python",
   "name": "python2"
  },
  "language_info": {
   "codemirror_mode": {
    "name": "ipython",
    "version": 2
   },
   "file_extension": ".py",
   "mimetype": "text/x-python",
   "name": "python",
   "nbconvert_exporter": "python",
   "pygments_lexer": "ipython2",
   "version": "2.7.10"
  }
 },
 "nbformat": 4,
 "nbformat_minor": 0
}
